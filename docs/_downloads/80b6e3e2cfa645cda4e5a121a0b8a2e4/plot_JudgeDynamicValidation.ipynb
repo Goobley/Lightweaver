{
  "cells": [
    {
      "cell_type": "markdown",
      "metadata": {},
      "source": [
        "\n# Time-dependent Example\nSimple illustrative example of time-dependent method. Herein we reproduce the\ntime-dependent population figure present in Judge 2017. Here the complete\nRybicki-Hummer MALI method is used.\nHerein we also conserve charge.\n\nJudge (2017): ApJ 851, 5\n"
      ]
    },
    {
      "cell_type": "code",
      "execution_count": null,
      "metadata": {
        "collapsed": false
      },
      "outputs": [],
      "source": [
        "from lightweaver.fal import Falc82\nfrom lightweaver.rh_atoms import  H_4_atom, C_atom, O_atom, Si_atom, Al_atom, CaII_atom, Fe_atom, He_atom, MgII_atom, N_atom, Na_atom, S_atom\nimport matplotlib.pyplot as plt\nimport time\nimport numpy as np\nimport lightweaver as lw"
      ]
    },
    {
      "cell_type": "markdown",
      "metadata": {},
      "source": [
        "Set up the standard FAL C 82 point initial atmosphere.\n\n"
      ]
    },
    {
      "cell_type": "code",
      "execution_count": null,
      "metadata": {
        "collapsed": false
      },
      "outputs": [],
      "source": [
        "atmos = Falc82()\natmos.quadrature(5)\naSet = lw.RadiativeSet([H_4_atom(), C_atom(), O_atom(), Si_atom(), Al_atom(), CaII_atom(),\\\n                        Fe_atom(), He_atom(), MgII_atom(), N_atom(), Na_atom(), S_atom()])\naSet.set_active('H')\nspect = aSet.compute_wavelength_grid()\n\neqPops = aSet.iterate_lte_ne_eq_pops(atmos)\nctx = lw.Context(atmos, spect, eqPops, conserveCharge=True, Nthreads=1)"
      ]
    },
    {
      "cell_type": "markdown",
      "metadata": {},
      "source": [
        "Find the initial statistical equilibrium solution,\n\n"
      ]
    },
    {
      "cell_type": "code",
      "execution_count": null,
      "metadata": {
        "collapsed": false
      },
      "outputs": [],
      "source": [
        "lw.iterate_ctx_se(ctx)\n\nprint('Achieved initial Stat Eq\\n\\n')"
      ]
    },
    {
      "cell_type": "markdown",
      "metadata": {},
      "source": [
        "Simulation parameters, timestep, number of steps to run for, and how many\ntimes to attempt to solve the equations for convergence per step.\n\n"
      ]
    },
    {
      "cell_type": "code",
      "execution_count": null,
      "metadata": {
        "collapsed": false
      },
      "outputs": [],
      "source": [
        "start = time.time()\ndt = 0.1\nNtStep = 30\nNsubStep = 100"
      ]
    },
    {
      "cell_type": "markdown",
      "metadata": {},
      "source": [
        "Perturb the atmospheric temperature structure like in the paper.\n\n"
      ]
    },
    {
      "cell_type": "code",
      "execution_count": null,
      "metadata": {
        "collapsed": false
      },
      "outputs": [],
      "source": [
        "prevT = np.copy(atmos.temperature)\nfor i in range(11, 31):\n    di = (i - 20.0) / 3.0\n    atmos.temperature[i] *= 1.0 + 2.0 * np.exp(-di**2)"
      ]
    },
    {
      "cell_type": "markdown",
      "metadata": {},
      "source": [
        "Solve the problem\n\n"
      ]
    },
    {
      "cell_type": "code",
      "execution_count": null,
      "metadata": {
        "collapsed": false
      },
      "outputs": [],
      "source": [
        "hPops = [np.copy(eqPops['H'])]\nsubIters = []\nfor it in range(NtStep):\n    # Recompute line profiles etc to account for changing electron density and temperature.\n    ctx.update_deps()\n\n    prevState = None\n    for sub in range(NsubStep):\n        JUpdate = ctx.formal_sol_gamma_matrices()\n        # If prevState is None, then the function assumes that this is the\n        # subiteration for this step and constructs and returns prevState\n        popsUpdate, prevState = ctx.time_dep_update(dt, prevState)\n        # Update electron density.\n        # If conserveCharge is set to True when the context is constructed, then\n        # the effects of `time_dep_update` are included in the IterationUpdate\n        # returned from `nr_post_update`, as the Context is expecting this to be\n        # called immediately after `time_dep_update`.\n        nrUpdate = ctx.nr_post_update(timeDependentData={'dt': dt, 'nPrev': prevState})\n\n        # Check subiteration convergence\n        if nrUpdate.dPopsMax < 1e-3 and JUpdate.dJMax < 3e-3:\n            subIters.append(sub)\n            break\n    else:\n        raise ValueError('No convergence within required Nsubstep')\n\n    hPops.append(np.copy(eqPops['H']))\n    print('Iteration %d (%f s) done after %d sub iterations' % (it, (it+1)*dt, sub))\n\n    # input()\nend = time.time()"
      ]
    },
    {
      "cell_type": "markdown",
      "metadata": {},
      "source": [
        "Reproduce Judge plot.\n\n"
      ]
    },
    {
      "cell_type": "code",
      "execution_count": null,
      "metadata": {
        "collapsed": false
      },
      "outputs": [],
      "source": [
        "initialAtmos = Falc82()\n\nplt.ion()\nfig, ax = plt.subplots(2,2, sharex=True)\nax = ax.flatten()\ncmass = np.log10(atmos.cmass/1e1)\n\nax[0].plot(cmass, initialAtmos.temperature, 'k')\nax[0].plot(cmass, atmos.temperature, '--')\n\nfor p in hPops[1:]:\n    ax[1].plot(cmass, np.log10(p[0,:]/1e6))\n    ax[2].plot(cmass, np.log10(p[1,:]/1e6))\n    ax[3].plot(cmass, np.log10(p[-1,:]/1e6))\n\np = hPops[0]\nax[1].plot(cmass, np.log10(p[0,:]/1e6), 'k')\nax[2].plot(cmass, np.log10(p[1,:]/1e6), 'k')\nax[3].plot(cmass, np.log10(p[-1,:]/1e6), 'k')\n\nax[0].set_xlim(-4.935, -4.931)\nax[0].set_ylim(0, 6e4)\nax[1].set_ylim(6, 11)\nax[2].set_ylim(1, 6)\nax[3].set_ylim(10, 11)\n\nprint('Time taken: %.2f s' % (end-start))"
      ]
    }
  ],
  "metadata": {
    "kernelspec": {
      "display_name": "Python 3",
      "language": "python",
      "name": "python3"
    },
    "language_info": {
      "codemirror_mode": {
        "name": "ipython",
        "version": 3
      },
      "file_extension": ".py",
      "mimetype": "text/x-python",
      "name": "python",
      "nbconvert_exporter": "python",
      "pygments_lexer": "ipython3",
      "version": "3.10.14"
    }
  },
  "nbformat": 4,
  "nbformat_minor": 0
}