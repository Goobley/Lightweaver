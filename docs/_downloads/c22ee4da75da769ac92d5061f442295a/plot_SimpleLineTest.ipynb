{
  "cells": [
    {
      "cell_type": "code",
      "execution_count": null,
      "metadata": {
        "collapsed": false
      },
      "outputs": [],
      "source": [
        "%matplotlib inline"
      ]
    },
    {
      "cell_type": "markdown",
      "metadata": {},
      "source": [
        "\n# Computing a simple NLTE 8542 line profile in a FAL C atmosphere\n"
      ]
    },
    {
      "cell_type": "markdown",
      "metadata": {},
      "source": [
        "First, we import everything we need. Lightweaver is typically imported as\n`lw`, but things like the library of model atoms and Fal atmospheres need to\nbe imported separately.\n\n"
      ]
    },
    {
      "cell_type": "code",
      "execution_count": null,
      "metadata": {
        "collapsed": false
      },
      "outputs": [],
      "source": [
        "from lightweaver.fal import Falc82\nfrom lightweaver.rh_atoms import H_6_atom, C_atom, O_atom, Si_atom, Al_atom, \\\nCaII_atom, Fe_atom, He_9_atom, He_atom, MgII_atom, N_atom, Na_atom, S_atom\nimport lightweaver as lw\nimport matplotlib.pyplot as plt\nimport time\nimport numpy as np"
      ]
    },
    {
      "cell_type": "markdown",
      "metadata": {},
      "source": [
        "Now, we define the functions that will be used in our spectral synthesise.\nFirst `synth_8542` which synthesises and returns the line given by an\natmosphere.\n\n"
      ]
    },
    {
      "cell_type": "code",
      "execution_count": null,
      "metadata": {
        "collapsed": false
      },
      "outputs": [],
      "source": [
        "def synth_8542(atmos, conserve, useNe, wave):\n    '''\n    Synthesise a spectral line for given atmosphere with different\n    conditions.\n\n    Parameters\n    ----------\n    atmos : lw.Atmosphere\n        The atmospheric model in which to synthesise the line.\n    conserve : bool\n        Whether to start from LTE electron density and conserve charge, or\n        simply use from the electron density present in the atomic model.\n    useNe : bool\n        Whether to use the electron density present in the model as the\n        starting solution, or compute the LTE electron density.\n    wave : np.ndarray\n        Array of wavelengths over which to resynthesise the final line\n        profile for muz=1.\n\n    Returns\n    -------\n    ctx : lw.Context\n        The Context object that was used to compute the equilibrium\n        populations.\n    Iwave : np.ndarray\n        The intensity at muz=1 for each wavelength in `wave`.\n    '''\n    # Configure the atmospheric angular quadrature\n    atmos.quadrature(5)\n    # Configure the set of atomic models to use.\n    aSet = lw.RadiativeSet([H_6_atom(), C_atom(), O_atom(), Si_atom(),\n                            Al_atom(), CaII_atom(), Fe_atom(), He_9_atom(),\n                            MgII_atom(), N_atom(), Na_atom(), S_atom()\n                           ])\n    # Set H and Ca to \"active\" i.e. NLTE, everything else participates as an\n    # LTE background.\n    aSet.set_active('H', 'Ca')\n    # Compute the necessary wavelength dependent information (SpectrumConfiguration).\n    spect = aSet.compute_wavelength_grid()\n\n    # Either compute the equilibrium populations at the fixed electron density\n    # provided in the model, or iterate an LTE electron density and compute the\n    # corresponding equilibrium populations (SpeciesStateTable).\n    if useNe:\n        eqPops = aSet.compute_eq_pops(atmos)\n    else:\n        eqPops = aSet.iterate_lte_ne_eq_pops(atmos)\n\n    # Configure the Context which holds the state of the simulation for the\n    # backend, and provides the python interface to the backend.\n    # Feel free to increase Nthreads to increase the number of threads the\n    # program will use.\n    ctx = lw.Context(atmos, spect, eqPops, conserveCharge=conserve, Nthreads=1)\n    start = time.time()\n    # Iterate the Context to convergence\n    iterate_ctx(ctx)\n    end = time.time()\n    print('%.2f s' % (end - start))\n    # Update the background populations based on the converged solution and\n    # compute the final intensity for mu=1 on the provided wavelength grid.\n    eqPops.update_lte_atoms_Hmin_pops(atmos)\n    Iwave = ctx.compute_rays(wave, [atmos.muz[-1]], stokes=False)\n    return ctx, Iwave\n\ndef iterate_ctx(ctx, Nscatter=3, NmaxIter=500):\n    '''\n    Iterate a Context to convergence.\n    '''\n    for i in range(NmaxIter):\n        # Compute the formal solution\n        dJ = ctx.formal_sol_gamma_matrices()\n        # Just update J for Nscatter iterations\n        if i < Nscatter:\n            continue\n        # Update the active populations under statistical equilibrium,\n        # conserving charge if this option was set on the Context.\n        delta = ctx.stat_equil()\n\n        # If we are converged in both relative change of J and populations,\n        # then print a message and return\n        # N.B. as this is just a simple case, there is no checking for failure\n        # to converge within the NmaxIter. This could be achieved simpy with an\n        # else block after this for.\n        if dJ < 3e-3 and delta < 1e-3:\n            print('%d iterations' % i)\n            print('-'*80)\n            return"
      ]
    },
    {
      "cell_type": "markdown",
      "metadata": {},
      "source": [
        "The wavelength grid to output the final synthesised line on.\n\n"
      ]
    },
    {
      "cell_type": "code",
      "execution_count": null,
      "metadata": {
        "collapsed": false
      },
      "outputs": [],
      "source": [
        "wave = np.linspace(853.9444, 854.9444, 1001)"
      ]
    },
    {
      "cell_type": "markdown",
      "metadata": {},
      "source": [
        "Load an lw.Atmosphere object containing the FAL C atmosphere with 82 points\nin depth, before synthesising the Ca II 8542 \\AA line profile using:\n\n- The given electron density.\n- The electron density charge conserved from a starting LTE solution.\n- The LTE electron density.\n\nThese results are then plotted.\n\n"
      ]
    },
    {
      "cell_type": "code",
      "execution_count": null,
      "metadata": {
        "collapsed": false
      },
      "outputs": [],
      "source": [
        "atmosRef = Falc82()\nctxRef, IwaveRef = synth_8542(atmosRef, conserve=False, useNe=True, wave=wave)\natmosCons = Falc82()\nctxCons, IwaveCons = synth_8542(atmosCons, conserve=True, useNe=False, wave=wave)\natmosLte = Falc82()\nctx, IwaveLte = synth_8542(atmosLte, conserve=False, useNe=False, wave=wave)\n\nplt.plot(wave, IwaveRef, label='Reference FAL')\nplt.plot(wave, IwaveCons, label='Reference Cons')\nplt.plot(wave, IwaveLte, label='Reference LTE n_e')\nplt.show()"
      ]
    }
  ],
  "metadata": {
    "kernelspec": {
      "display_name": "Python 3",
      "language": "python",
      "name": "python3"
    },
    "language_info": {
      "codemirror_mode": {
        "name": "ipython",
        "version": 3
      },
      "file_extension": ".py",
      "mimetype": "text/x-python",
      "name": "python",
      "nbconvert_exporter": "python",
      "pygments_lexer": "ipython3",
      "version": "3.8.11"
    }
  },
  "nbformat": 4,
  "nbformat_minor": 0
}